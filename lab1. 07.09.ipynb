{
 "cells": [
  {
   "cell_type": "markdown",
   "metadata": {},
   "source": [
    "## Задача 3"
   ]
  },
  {
   "cell_type": "code",
   "execution_count": 5,
   "metadata": {},
   "outputs": [
    {
     "name": "stdout",
     "output_type": "stream",
     "text": [
      "212\n"
     ]
    }
   ],
   "source": [
    "list_01=[1,1,2,3,5,8,13,21,34,55,89,144,233,377,610]\n",
    "counter = []\n",
    "for i in list_01:\n",
    "    if i >10 and i<100:\n",
    "        counter.append(i)\n",
    "print(sum(counter))"
   ]
  },
  {
   "cell_type": "markdown",
   "metadata": {},
   "source": [
    "## Задача 5"
   ]
  },
  {
   "cell_type": "code",
   "execution_count": 6,
   "metadata": {},
   "outputs": [
    {
     "name": "stdout",
     "output_type": "stream",
     "text": [
      "89\n",
      "22\n"
     ]
    }
   ],
   "source": [
    "matrix=[[0,1,2,4,8],\n",
    "        [6,2,2,1,9],\n",
    "        [3,3,3,3,3],\n",
    "        [4,6,7,1,2],\n",
    "        [5,7,3,4,0]]\n",
    "\n",
    "n = 0\n",
    "for l in matrix:\n",
    "    for i in l:\n",
    "        n += i\n",
    "\n",
    "print(n)\n",
    "\n",
    "print(max([sum(x) for x in zip(*matrix)]))"
   ]
  },
  {
   "cell_type": "code",
   "execution_count": null,
   "metadata": {},
   "outputs": [],
   "source": []
  },
  {
   "cell_type": "code",
   "execution_count": null,
   "metadata": {},
   "outputs": [],
   "source": []
  },
  {
   "cell_type": "code",
   "execution_count": null,
   "metadata": {},
   "outputs": [],
   "source": []
  },
  {
   "cell_type": "code",
   "execution_count": null,
   "metadata": {},
   "outputs": [],
   "source": []
  }
 ],
 "metadata": {
  "kernelspec": {
   "display_name": "Python 3",
   "language": "python",
   "name": "python3"
  },
  "language_info": {
   "codemirror_mode": {
    "name": "ipython",
    "version": 3
   },
   "file_extension": ".py",
   "mimetype": "text/x-python",
   "name": "python",
   "nbconvert_exporter": "python",
   "pygments_lexer": "ipython3",
   "version": "3.7.3"
  }
 },
 "nbformat": 4,
 "nbformat_minor": 2
}
