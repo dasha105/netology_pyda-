{
 "cells": [
  {
   "cell_type": "markdown",
   "metadata": {},
   "source": [
    "**Задание 3**. Разработать приложение для определения знака зодиака по дате рождения. Пример:\n",
    "\n",
    "Введите месяц: март\n",
    "\n",
    "Введите число: 6\n",
    "\n",
    "Вывод:\n",
    "Рыбы"
   ]
  },
  {
   "cell_type": "code",
   "execution_count": null,
   "metadata": {},
   "outputs": [],
   "source": [
    "mounth = input('Введите месяц: ')\n",
    "day = int(input('Введите день: '))\n",
    "if mounth == 'март' and day >= 21 or mounth == 'апрель' and day <= 19:\n",
    "    print('Овен')\n",
    "if mounth == 'апрель' and day >= 20 or mounth == 'май' and day <= 20:\n",
    "    print('Телец')   \n",
    "if mounth == 'май' and day >= 21 or mounth == 'июнь' and day <= 20:\n",
    "     print('Близнецы') \n",
    "if mounth == 'июнь' and day >= 21 or mounth == 'июль' and day <= 22:\n",
    "     print('Рак') \n",
    "if mounth == 'июль' and day >= 23 or mounth == 'август' and day <= 22:\n",
    "     print('Лев') \n",
    "if mounth == 'август' and day >= 23 or mounth == 'сентябрь' and day <= 22:\n",
    "     print('Дева') \n",
    "if mounth == 'сентябрь' and day >= 23 or mounth == 'октябрь' and day <= 22:\n",
    "     print('Весы') \n",
    "if mounth == 'октябрь' and day >= 23 or mounth == 'ноябрь' and day <= 21:\n",
    "     print('Скорпион') \n",
    "if mounth == 'ноябрь' and day >= 22 or mounth == 'декабрь' and day <= 21:\n",
    "     print('Стрелец')\n",
    "if mounth == 'декабрь' and day >= 22 or mounth == 'январь' and day <= 19:\n",
    "     print('Козерог')\n",
    "if mounth == 'январь' and day >= 20 or mounth == 'февраль' and day <= 18:\n",
    "     print('Водолей')\n",
    "if mounth == 'февраль' and day >= 18 or mounth == 'март' and day <= 20:\n",
    "     print('Рыбы')\n",
    "else:\n",
    "    print('Ошибка в веденных данных')"
   ]
  },
  {
   "cell_type": "code",
   "execution_count": null,
   "metadata": {},
   "outputs": [],
   "source": []
  }
 ],
 "metadata": {
  "kernelspec": {
   "display_name": "Python 3",
   "language": "python",
   "name": "python3"
  },
  "language_info": {
   "codemirror_mode": {
    "name": "ipython",
    "version": 3
   },
   "file_extension": ".py",
   "mimetype": "text/x-python",
   "name": "python",
   "nbconvert_exporter": "python",
   "pygments_lexer": "ipython3",
   "version": "3.7.3"
  }
 },
 "nbformat": 4,
 "nbformat_minor": 2
}
