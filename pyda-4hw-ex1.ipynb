{
 "cells": [
  {
   "cell_type": "markdown",
   "metadata": {},
   "source": [
    "## Задача 1\n"
   ]
  },
  {
   "cell_type": "code",
   "execution_count": 19,
   "metadata": {},
   "outputs": [],
   "source": [
    "#Напишите функцию, которая возвращает название валюты (поле ‘Name’) с максимальным значением курса\n",
    "import requests"
   ]
  },
  {
   "cell_type": "code",
   "execution_count": 20,
   "metadata": {},
   "outputs": [
    {
     "name": "stdout",
     "output_type": "stream",
     "text": [
      "44.5651\n",
      "Австралийский доллар\n",
      "38.888\n",
      "Азербайджанский манат\n",
      "80.7516\n",
      "Фунт стерлингов Соединенного королевства\n",
      "13.8454\n",
      "Армянских драмов\n",
      "32.0774\n",
      "Белорусский рубль\n",
      "37.4849\n",
      "Болгарский лев\n",
      "16.1218\n",
      "Бразильский реал\n",
      "22.2737\n",
      "Венгерских форинтов\n",
      "84.0995\n",
      "Гонконгских долларов\n",
      "98.3256\n",
      "Датских крон\n",
      "65.9735\n",
      "Доллар США\n",
      "73.3955\n",
      "Евро\n",
      "91.6329\n",
      "Индийских рупий\n",
      "17.0331\n",
      "Казахстанских тенге\n",
      "49.6303\n",
      "Канадский доллар\n",
      "94.3206\n",
      "Киргизских сомов\n",
      "92.6318\n",
      "Китайских юаней\n",
      "36.8876\n",
      "Молдавских леев\n",
      "73.4745\n",
      "Норвежских крон\n",
      "16.7756\n",
      "Польский злотый\n",
      "15.517\n",
      "Румынский лей\n",
      "90.3877\n",
      "СДР (специальные права заимствования)\n",
      "47.5382\n",
      "Сингапурский доллар\n",
      "68.0841\n",
      "Таджикских сомони\n",
      "11.367\n",
      "Турецкая лира\n",
      "18.8765\n",
      "Новый туркменский манат\n",
      "70.3717\n",
      "Узбекских сумов\n",
      "26.2843\n",
      "Украинских гривен\n",
      "28.3659\n",
      "Чешских крон\n",
      "68.3076\n",
      "Шведских крон\n",
      "67.4852\n",
      "Швейцарский франк\n",
      "43.3151\n",
      "Южноафриканских рэндов\n",
      "54.2813\n",
      "Вон Республики Корея\n",
      "62.3362\n",
      "Японских иен\n"
     ]
    }
   ],
   "source": [
    "r = requests.get('https://www.cbr-xml-daily.ru/daily_json.js')\n",
    "all_requests =  r.json()['Valute']\n",
    "max_val = 0\n",
    "for code, current_info in all_requests.items():\n",
    "    if current_info['Previous'] < current_info['Value']:\n",
    "        max_val == current_info['Value']\n",
    "        print(current_info['Value'])\n",
    "    else:\n",
    "        max_val == current_info['Previous']\n",
    "        print(current_info['Previous'])\n",
    "    print(current_info['Name']) \n"
   ]
  }
 ],
 "metadata": {
  "kernelspec": {
   "display_name": "Python 3",
   "language": "python",
   "name": "python3"
  },
  "language_info": {
   "codemirror_mode": {
    "name": "ipython",
    "version": 3
   },
   "file_extension": ".py",
   "mimetype": "text/x-python",
   "name": "python",
   "nbconvert_exporter": "python",
   "pygments_lexer": "ipython3",
   "version": "3.7.3"
  }
 },
 "nbformat": 4,
 "nbformat_minor": 2
}
